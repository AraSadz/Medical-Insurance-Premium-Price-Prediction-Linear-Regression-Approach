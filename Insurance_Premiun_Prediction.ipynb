{
 "cells": [
  {
   "cell_type": "markdown",
   "id": "3313c05e",
   "metadata": {},
   "source": [
    "# Medical Insurance Premium Price Prediction: Linear Regression Aproach\n",
    "\n",
    "## Author: Arash Sadeghzadeh\n",
    "\n",
    "### Data for this notebook can be retrieved from the following address:\n",
    " https://www.kaggle.com/datasets/tejashvi14/medical-insurance-premium-prediction\n",
    "\n",
    "\n",
    "\n",
    "## Table of Contents:\n",
    "* [Loading Data](#zero-bullet)\n",
    "* [Data Exploration and Cleaning](#first-bullet)\n",
    "    - [Data Features](#1-1-bullet)\n",
    "    - [Delete Outliers](#1-2-bullet)\n",
    "    - [Select Features](#1-3-bullet)\n",
    "    - [Select Categorical Features](#1-4-bullet)\n",
    "    - [Convert Categorical Features](#1-5-bullet)\n",
    "    - [Determining Normality](#1-6-bullet)\n",
    "* [Linear Regression](#second-bullet)\n",
    "    - [A simple Linear Regression](#2-1-bullet)\n",
    "* [Linear Regression with Regularization](#third-bullet)\n",
    "    - [Ridge](#3-1-bullet)\n",
    "    - [Lasso](#3-2-bullet)\n",
    "    - [Elastic Net](#3-3-bullet)\n",
    "    - [Linear Regression Results](#3-4-bullet)\n",
    "    - [Linear Regression: Cross-Validation](#3-5-bullet)\n",
    "    - [Linear Regression: Different Scalers](#3-6-bullet)\n",
    "    - [Linear Regression: Hyperparameter Tuning](#3-7-bullet)\n",
    "* [Final Model](#fourth-bullet)"
   ]
  },
  {
   "cell_type": "markdown",
   "id": "73c14afb",
   "metadata": {},
   "source": [
    "# Loading Data <a class=\"anchor\" id=\"zero-bullet\"></a>\n",
    "\n",
    "First, let us load the dataset and have a look at the different features."
   ]
  },
  {
   "cell_type": "code",
   "execution_count": 1,
   "id": "416f1acf",
   "metadata": {},
   "outputs": [],
   "source": [
    "import pandas as pd\n",
    "import numpy as np\n",
    "import seaborn as sns\n",
    "import matplotlib.pyplot as plt\n",
    "\n",
    "from scipy.stats import f_oneway, boxcox\n",
    "from scipy.stats.mstats import normaltest\n",
    "from scipy.special import inv_boxcox\n",
    "from sklearn.linear_model import LinearRegression, Lasso, Ridge, ElasticNet\n",
    "from sklearn.linear_model import RidgeCV, LassoCV, ElasticNetCV\n",
    "from sklearn.metrics import r2_score, mean_squared_error\n",
    "from sklearn.model_selection import train_test_split, KFold, cross_val_predict, GridSearchCV\n",
    "from sklearn.preprocessing import StandardScaler, MinMaxScaler, MaxAbsScaler, PolynomialFeatures\n",
    "from sklearn.pipeline import Pipeline\n",
    "\n",
    "import warnings\n",
    "warnings.filterwarnings('ignore', module='sklearn')"
   ]
  },
  {
   "cell_type": "code",
   "execution_count": 2,
   "id": "4e882cc0",
   "metadata": {},
   "outputs": [],
   "source": [
    "df = pd.read_csv('./Medicalpremium.csv')"
   ]
  },
  {
   "cell_type": "code",
   "execution_count": 3,
   "id": "efd21448",
   "metadata": {},
   "outputs": [
    {
     "data": {
      "text/html": [
       "<div>\n",
       "<style scoped>\n",
       "    .dataframe tbody tr th:only-of-type {\n",
       "        vertical-align: middle;\n",
       "    }\n",
       "\n",
       "    .dataframe tbody tr th {\n",
       "        vertical-align: top;\n",
       "    }\n",
       "\n",
       "    .dataframe thead th {\n",
       "        text-align: right;\n",
       "    }\n",
       "</style>\n",
       "<table border=\"1\" class=\"dataframe\">\n",
       "  <thead>\n",
       "    <tr style=\"text-align: right;\">\n",
       "      <th></th>\n",
       "      <th>Age</th>\n",
       "      <th>Diabetes</th>\n",
       "      <th>BloodPressureProblems</th>\n",
       "      <th>AnyTransplants</th>\n",
       "      <th>AnyChronicDiseases</th>\n",
       "      <th>Height</th>\n",
       "      <th>Weight</th>\n",
       "      <th>KnownAllergies</th>\n",
       "      <th>HistoryOfCancerInFamily</th>\n",
       "      <th>NumberOfMajorSurgeries</th>\n",
       "      <th>PremiumPrice</th>\n",
       "    </tr>\n",
       "  </thead>\n",
       "  <tbody>\n",
       "    <tr>\n",
       "      <th>0</th>\n",
       "      <td>45</td>\n",
       "      <td>0</td>\n",
       "      <td>0</td>\n",
       "      <td>0</td>\n",
       "      <td>0</td>\n",
       "      <td>155</td>\n",
       "      <td>57</td>\n",
       "      <td>0</td>\n",
       "      <td>0</td>\n",
       "      <td>0</td>\n",
       "      <td>25000</td>\n",
       "    </tr>\n",
       "    <tr>\n",
       "      <th>1</th>\n",
       "      <td>60</td>\n",
       "      <td>1</td>\n",
       "      <td>0</td>\n",
       "      <td>0</td>\n",
       "      <td>0</td>\n",
       "      <td>180</td>\n",
       "      <td>73</td>\n",
       "      <td>0</td>\n",
       "      <td>0</td>\n",
       "      <td>0</td>\n",
       "      <td>29000</td>\n",
       "    </tr>\n",
       "    <tr>\n",
       "      <th>2</th>\n",
       "      <td>36</td>\n",
       "      <td>1</td>\n",
       "      <td>1</td>\n",
       "      <td>0</td>\n",
       "      <td>0</td>\n",
       "      <td>158</td>\n",
       "      <td>59</td>\n",
       "      <td>0</td>\n",
       "      <td>0</td>\n",
       "      <td>1</td>\n",
       "      <td>23000</td>\n",
       "    </tr>\n",
       "    <tr>\n",
       "      <th>3</th>\n",
       "      <td>52</td>\n",
       "      <td>1</td>\n",
       "      <td>1</td>\n",
       "      <td>0</td>\n",
       "      <td>1</td>\n",
       "      <td>183</td>\n",
       "      <td>93</td>\n",
       "      <td>0</td>\n",
       "      <td>0</td>\n",
       "      <td>2</td>\n",
       "      <td>28000</td>\n",
       "    </tr>\n",
       "    <tr>\n",
       "      <th>4</th>\n",
       "      <td>38</td>\n",
       "      <td>0</td>\n",
       "      <td>0</td>\n",
       "      <td>0</td>\n",
       "      <td>1</td>\n",
       "      <td>166</td>\n",
       "      <td>88</td>\n",
       "      <td>0</td>\n",
       "      <td>0</td>\n",
       "      <td>1</td>\n",
       "      <td>23000</td>\n",
       "    </tr>\n",
       "  </tbody>\n",
       "</table>\n",
       "</div>"
      ],
      "text/plain": [
       "   Age  Diabetes  BloodPressureProblems  AnyTransplants  AnyChronicDiseases  \\\n",
       "0   45         0                      0               0                   0   \n",
       "1   60         1                      0               0                   0   \n",
       "2   36         1                      1               0                   0   \n",
       "3   52         1                      1               0                   1   \n",
       "4   38         0                      0               0                   1   \n",
       "\n",
       "   Height  Weight  KnownAllergies  HistoryOfCancerInFamily  \\\n",
       "0     155      57               0                        0   \n",
       "1     180      73               0                        0   \n",
       "2     158      59               0                        0   \n",
       "3     183      93               0                        0   \n",
       "4     166      88               0                        0   \n",
       "\n",
       "   NumberOfMajorSurgeries  PremiumPrice  \n",
       "0                       0         25000  \n",
       "1                       0         29000  \n",
       "2                       1         23000  \n",
       "3                       2         28000  \n",
       "4                       1         23000  "
      ]
     },
     "execution_count": 3,
     "metadata": {},
     "output_type": "execute_result"
    }
   ],
   "source": [
    "df_raw = df.copy()\n",
    "df.head()"
   ]
  },
  {
   "cell_type": "markdown",
   "id": "648bd99b",
   "metadata": {},
   "source": [
    "The features in the dataset are as follows:"
   ]
  },
  {
   "cell_type": "code",
   "execution_count": 4,
   "id": "fb63752b",
   "metadata": {
    "scrolled": true
   },
   "outputs": [
    {
     "name": "stdout",
     "output_type": "stream",
     "text": [
      "<class 'pandas.core.frame.DataFrame'>\n",
      "RangeIndex: 986 entries, 0 to 985\n",
      "Data columns (total 11 columns):\n",
      " #   Column                   Non-Null Count  Dtype\n",
      "---  ------                   --------------  -----\n",
      " 0   Age                      986 non-null    int64\n",
      " 1   Diabetes                 986 non-null    int64\n",
      " 2   BloodPressureProblems    986 non-null    int64\n",
      " 3   AnyTransplants           986 non-null    int64\n",
      " 4   AnyChronicDiseases       986 non-null    int64\n",
      " 5   Height                   986 non-null    int64\n",
      " 6   Weight                   986 non-null    int64\n",
      " 7   KnownAllergies           986 non-null    int64\n",
      " 8   HistoryOfCancerInFamily  986 non-null    int64\n",
      " 9   NumberOfMajorSurgeries   986 non-null    int64\n",
      " 10  PremiumPrice             986 non-null    int64\n",
      "dtypes: int64(11)\n",
      "memory usage: 84.9 KB\n"
     ]
    }
   ],
   "source": [
    "df.info()"
   ]
  },
  {
   "cell_type": "markdown",
   "id": "296b0a67",
   "metadata": {},
   "source": [
    "# Data Exploration and Cleaning <a class=\"anchor\" id=\"first-bullet\"></a>\n",
    "\n",
    "We need to clean the data to prepare it for the machine learning (ML) methods. Furthermore, we need to explore the data to get familiar with it."
   ]
  },
  {
   "cell_type": "markdown",
   "id": "61a3636e",
   "metadata": {},
   "source": [
    "## Data Features <a class=\"anchor\" id=\"1-1-bullet\"></a>\n",
    "\n",
    "Lets explore the data features and have a look at the distribution of the different features:"
   ]
  },
  {
   "cell_type": "code",
   "execution_count": 5,
   "id": "63c7673a",
   "metadata": {},
   "outputs": [
    {
     "data": {
      "image/png": "[encoded data removed]",
      "text/plain": [
       "<Figure size 864x1080 with 7 Axes>"
      ]
     },
     "metadata": {
      "needs_background": "light"
     },
     "output_type": "display_data"
    }
   ],
   "source": [
    "fig, ax  = plt.subplots(4,2, figsize=(12,15))\n",
    "fig.delaxes(ax[3,1])\n",
    "\n",
    "cols = ['Diabetes', 'BloodPressureProblems', 'AnyTransplants', 'AnyChronicDiseases', 'KnownAllergies',\n",
    "      'HistoryOfCancerInFamily', 'NumberOfMajorSurgeries']\n",
    "\n",
    "for num, col in enumerate(cols):\n",
    "    ax_def = ax.ravel()[num]\n",
    "    sns.histplot(df[col], ax=ax_def)\n",
    "    \n",
    "    if num==6:\n",
    "        ax_def.set_xticks([0.1,1.1, 2.1, 2.92])\n",
    "        ax_def.set_xticklabels([0, 1, 2, 3])\n",
    "        continue\n",
    "        \n",
    "    ax_def.set_xticks([0.04,0.96])\n",
    "    ax_def.set_xticklabels([0, 1])"
   ]
  },
  {
   "cell_type": "code",
   "execution_count": 6,
   "id": "9afabdbc",
   "metadata": {},
   "outputs": [
    {
     "data": {
      "text/html": [
       "<div>\n",
       "<style scoped>\n",
       "    .dataframe tbody tr th:only-of-type {\n",
       "        vertical-align: middle;\n",
       "    }\n",
       "\n",
       "    .dataframe tbody tr th {\n",
       "        vertical-align: top;\n",
       "    }\n",
       "\n",
       "    .dataframe thead th {\n",
       "        text-align: right;\n",
       "    }\n",
       "</style>\n",
       "<table border=\"1\" class=\"dataframe\">\n",
       "  <thead>\n",
       "    <tr style=\"text-align: right;\">\n",
       "      <th></th>\n",
       "      <th>Age</th>\n",
       "      <th>Height</th>\n",
       "      <th>Weight</th>\n",
       "      <th>PremiumPrice</th>\n",
       "    </tr>\n",
       "  </thead>\n",
       "  <tbody>\n",
       "    <tr>\n",
       "      <th>count</th>\n",
       "      <td>986.000000</td>\n",
       "      <td>986.000000</td>\n",
       "      <td>986.000000</td>\n",
       "      <td>986.000000</td>\n",
       "    </tr>\n",
       "    <tr>\n",
       "      <th>mean</th>\n",
       "      <td>41.745436</td>\n",
       "      <td>168.182556</td>\n",
       "      <td>76.950304</td>\n",
       "      <td>24336.713996</td>\n",
       "    </tr>\n",
       "    <tr>\n",
       "      <th>std</th>\n",
       "      <td>13.963371</td>\n",
       "      <td>10.098155</td>\n",
       "      <td>14.265096</td>\n",
       "      <td>6248.184382</td>\n",
       "    </tr>\n",
       "    <tr>\n",
       "      <th>min</th>\n",
       "      <td>18.000000</td>\n",
       "      <td>145.000000</td>\n",
       "      <td>51.000000</td>\n",
       "      <td>15000.000000</td>\n",
       "    </tr>\n",
       "    <tr>\n",
       "      <th>25%</th>\n",
       "      <td>30.000000</td>\n",
       "      <td>161.000000</td>\n",
       "      <td>67.000000</td>\n",
       "      <td>21000.000000</td>\n",
       "    </tr>\n",
       "    <tr>\n",
       "      <th>50%</th>\n",
       "      <td>42.000000</td>\n",
       "      <td>168.000000</td>\n",
       "      <td>75.000000</td>\n",
       "      <td>23000.000000</td>\n",
       "    </tr>\n",
       "    <tr>\n",
       "      <th>75%</th>\n",
       "      <td>53.000000</td>\n",
       "      <td>176.000000</td>\n",
       "      <td>87.000000</td>\n",
       "      <td>28000.000000</td>\n",
       "    </tr>\n",
       "    <tr>\n",
       "      <th>max</th>\n",
       "      <td>66.000000</td>\n",
       "      <td>188.000000</td>\n",
       "      <td>132.000000</td>\n",
       "      <td>40000.000000</td>\n",
       "    </tr>\n",
       "  </tbody>\n",
       "</table>\n",
       "</div>"
      ],
      "text/plain": [
       "              Age      Height      Weight  PremiumPrice\n",
       "count  986.000000  986.000000  986.000000    986.000000\n",
       "mean    41.745436  168.182556   76.950304  24336.713996\n",
       "std     13.963371   10.098155   14.265096   6248.184382\n",
       "min     18.000000  145.000000   51.000000  15000.000000\n",
       "25%     30.000000  161.000000   67.000000  21000.000000\n",
       "50%     42.000000  168.000000   75.000000  23000.000000\n",
       "75%     53.000000  176.000000   87.000000  28000.000000\n",
       "max     66.000000  188.000000  132.000000  40000.000000"
      ]
     },
     "execution_count": 6,
     "metadata": {},
     "output_type": "execute_result"
    }
   ],
   "source": [
    "df[['Age', 'Height', 'Weight', 'PremiumPrice']].describe()"
   ]
  },
  {
   "cell_type": "code",
   "execution_count": 7,
   "id": "9b4825bd",
   "metadata": {},
   "outputs": [
    {
     "data": {
      "text/plain": [
       "array([[<AxesSubplot:title={'center':'Age'}>,\n",
       "        <AxesSubplot:title={'center':'Height'}>],\n",
       "       [<AxesSubplot:title={'center':'Weight'}>,\n",
       "        <AxesSubplot:title={'center':'PremiumPrice'}>]], dtype=object)"
      ]
     },
     "execution_count": 7,
     "metadata": {},
     "output_type": "execute_result"
    },
    {
     "data": {
      "image/png": "[encoded data removed]",
      "text/plain": [
       "<Figure size 720x720 with 4 Axes>"
      ]
     },
     "metadata": {
      "needs_background": "light"
     },
     "output_type": "display_data"
    }
   ],
   "source": [
    "df[['Age', 'Height', 'Weight', 'PremiumPrice']].hist(figsize=(10,10))"
   ]
  },
  {
   "cell_type": "markdown",
   "id": "85649fa5",
   "metadata": {},
   "source": [
    "## Delete Outliers <a class=\"anchor\" id=\"1-2-bullet\"></a>\n",
    "\n",
    "In this section, we will investigate the features and take care of outliers to prepare the data for the ML approaches."
   ]
  },
  {
   "cell_type": "markdown",
   "id": "9c76c3e5",
   "metadata": {},
   "source": [
    "In the following, we plot the boxplot for the continuous features to pinpoint the outliers:"
   ]
  },
  {
   "cell_type": "code",
   "execution_count": 8,
   "id": "81becfba",
   "metadata": {
    "scrolled": false
   },
   "outputs": [
    {
     "data": {
      "text/plain": [
       "[Text(0.5, 0, 'Price'), Text(0, 0.5, 'value')]"
      ]
     },
     "execution_count": 8,
     "metadata": {},
     "output_type": "execute_result"
    },
    {
     "data": {
      "image/png": "[encoded data removed]",
      "text/plain": [
       "<Figure size 864x576 with 2 Axes>"
      ]
     },
     "metadata": {
      "needs_background": "light"
     },
     "output_type": "display_data"
    }
   ],
   "source": [
    "fig, axs = plt.subplots(1,2,figsize=(12,8))\n",
    "sns.boxplot(x='variable', y='value', data=pd.melt(df[['Height', 'Weight', 'Age']]), ax=axs[0])\n",
    "sns.boxplot(y='PremiumPrice',  data=df, ax=axs[1])\n",
    "axs[1].set(xlabel='Price', ylabel='value')"
   ]
  },
  {
   "cell_type": "code",
   "execution_count": 9,
   "id": "1c9e3b07",
   "metadata": {
    "scrolled": false
   },
   "outputs": [
    {
     "data": {
      "text/plain": [
       "count    986.000000\n",
       "mean      76.950304\n",
       "std       14.265096\n",
       "min       51.000000\n",
       "25%       67.000000\n",
       "50%       75.000000\n",
       "75%       87.000000\n",
       "max      132.000000\n",
       "Name: Weight, dtype: float64"
      ]
     },
     "execution_count": 9,
     "metadata": {},
     "output_type": "execute_result"
    }
   ],
   "source": [
    "weight_val = df['Weight'].describe()\n",
    "weight_val"
   ]
  },
  {
   "cell_type": "markdown",
   "id": "27330ce7",
   "metadata": {},
   "source": [
    "In what follows, the outliers are deleted and then the related features are represented again:"
   ]
  },
  {
   "cell_type": "code",
   "execution_count": 10,
   "id": "1f29de79",
   "metadata": {},
   "outputs": [
    {
     "data": {
      "text/plain": [
       "[Text(0.5, 0, 'Price'), Text(0, 0.5, 'value')]"
      ]
     },
     "execution_count": 10,
     "metadata": {},
     "output_type": "execute_result"
    },
    {
     "data": {
      "image/png": "[encoded data removed]",
      "text/plain": [
       "<Figure size 864x576 with 2 Axes>"
      ]
     },
     "metadata": {
      "needs_background": "light"
     },
     "output_type": "display_data"
    }
   ],
   "source": [
    "Q3_wei = df['Weight'].quantile(0.75)\n",
    "Q1_wei = df['Weight'].quantile(0.25)\n",
    "weight_lim = 1.5 * (Q3_wei - Q1_wei) + Q3_wei\n",
    "\n",
    "Q3_pri = df['PremiumPrice'].quantile(0.75)\n",
    "Q1_pri = df['PremiumPrice'].quantile(0.25)\n",
    "price_lim = 1.5 * (Q3_pri - Q1_pri) + Q3_pri\n",
    "\n",
    "df = df[(df['Weight']<weight_lim) &  (df['PremiumPrice']<price_lim)]\n",
    "\n",
    "ig, axs = plt.subplots(1,2,figsize=(12,8))\n",
    "sns.boxplot(x='variable', y='value', data=pd.melt(df[['Height', 'Weight', 'Age']]), ax=axs[0])\n",
    "sns.boxplot(y='PremiumPrice',  data=df, ax=axs[1])\n",
    "axs[1].set(xlabel='Price', ylabel='value')"
   ]
  },
  {
   "cell_type": "markdown",
   "id": "0c2872b3",
   "metadata": {},
   "source": [
    "## Select Features <a class=\"anchor\" id=\"1-3-bullet\"></a>\n",
    "\n",
    "In this section, we choose the predominant features for the price prediction. First, let have a look at the correlations between the price and the other continuous features:"
   ]
  },
  {
   "cell_type": "code",
   "execution_count": 11,
   "id": "6f0deca7",
   "metadata": {
    "scrolled": false
   },
   "outputs": [
    {
     "data": {
      "text/html": [
       "<div>\n",
       "<style scoped>\n",
       "    .dataframe tbody tr th:only-of-type {\n",
       "        vertical-align: middle;\n",
       "    }\n",
       "\n",
       "    .dataframe tbody tr th {\n",
       "        vertical-align: top;\n",
       "    }\n",
       "\n",
       "    .dataframe thead th {\n",
       "        text-align: right;\n",
       "    }\n",
       "</style>\n",
       "<table border=\"1\" class=\"dataframe\">\n",
       "  <thead>\n",
       "    <tr style=\"text-align: right;\">\n",
       "      <th></th>\n",
       "      <th>Age</th>\n",
       "      <th>Height</th>\n",
       "      <th>Weight</th>\n",
       "      <th>PremiumPrice</th>\n",
       "    </tr>\n",
       "  </thead>\n",
       "  <tbody>\n",
       "    <tr>\n",
       "      <th>Age</th>\n",
       "      <td>1.000000</td>\n",
       "      <td>0.036674</td>\n",
       "      <td>-0.007651</td>\n",
       "      <td>0.719069</td>\n",
       "    </tr>\n",
       "    <tr>\n",
       "      <th>Height</th>\n",
       "      <td>0.036674</td>\n",
       "      <td>1.000000</td>\n",
       "      <td>0.080146</td>\n",
       "      <td>0.037199</td>\n",
       "    </tr>\n",
       "    <tr>\n",
       "      <th>Weight</th>\n",
       "      <td>-0.007651</td>\n",
       "      <td>0.080146</td>\n",
       "      <td>1.000000</td>\n",
       "      <td>0.157523</td>\n",
       "    </tr>\n",
       "    <tr>\n",
       "      <th>PremiumPrice</th>\n",
       "      <td>0.719069</td>\n",
       "      <td>0.037199</td>\n",
       "      <td>0.157523</td>\n",
       "      <td>1.000000</td>\n",
       "    </tr>\n",
       "  </tbody>\n",
       "</table>\n",
       "</div>"
      ],
      "text/plain": [
       "                   Age    Height    Weight  PremiumPrice\n",
       "Age           1.000000  0.036674 -0.007651      0.719069\n",
       "Height        0.036674  1.000000  0.080146      0.037199\n",
       "Weight       -0.007651  0.080146  1.000000      0.157523\n",
       "PremiumPrice  0.719069  0.037199  0.157523      1.000000"
      ]
     },
     "execution_count": 11,
     "metadata": {},
     "output_type": "execute_result"
    }
   ],
   "source": [
    "df[['Age', 'Height', 'Weight', 'PremiumPrice']].corr()"
   ]
  },
  {
   "cell_type": "markdown",
   "id": "abc577c5",
   "metadata": {},
   "source": [
    "As one can see, the 'Height' has very low correlation with the 'PremiumPrice'. It has also been investigated in the following figure. As you can see the variation of the price with respect to variation of the height is negligible. "
   ]
  },
  {
   "cell_type": "code",
   "execution_count": 12,
   "id": "e3bbc72f",
   "metadata": {},
   "outputs": [
    {
     "data": {
      "text/plain": [
       "<AxesSubplot:xlabel='Height', ylabel='PremiumPrice'>"
      ]
     },
     "execution_count": 12,
     "metadata": {},
     "output_type": "execute_result"
    },
    {
     "data": {
      "image/png": "[encoded data removed]",
      "text/plain": [
       "<Figure size 432x288 with 1 Axes>"
      ]
     },
     "metadata": {
      "needs_background": "light"
     },
     "output_type": "display_data"
    }
   ],
   "source": [
    "sns.regplot(x='Height', y='PremiumPrice', data=df)"
   ]
  },
  {
   "cell_type": "markdown",
   "id": "3d1ba2b7",
   "metadata": {},
   "source": [
    "So, we decide to delete the 'Height' from the features in the dataset:"
   ]
  },
  {
   "cell_type": "code",
   "execution_count": 13,
   "id": "2765caa4",
   "metadata": {},
   "outputs": [],
   "source": [
    "df.drop(columns=['Height'], axis=1, inplace=True)"
   ]
  },
  {
   "cell_type": "markdown",
   "id": "2e9bbe3a",
   "metadata": {},
   "source": [
    "## Select Categorical Features <a class=\"anchor\" id=\"1-4-bullet\"></a>\n",
    "\n",
    "similar to the continuous features, we need to explore which categorical features are the most important ones for the price prediction. This can be done by one-way analysis of variance (ANOVA) as follows:"
   ]
  },
  {
   "cell_type": "code",
   "execution_count": 14,
   "id": "9cb5a891",
   "metadata": {},
   "outputs": [
    {
     "data": {
      "text/plain": [
       "F_onewayResult(statistic=6.1277473125365365, pvalue=0.013478739494738259)"
      ]
     },
     "execution_count": 14,
     "metadata": {},
     "output_type": "execute_result"
    }
   ],
   "source": [
    "df_noDiabetes = df.groupby('Diabetes').get_group(0)['PremiumPrice']\n",
    "df_Diabetes = df.groupby('Diabetes').get_group(1)['PremiumPrice']\n",
    "f_oneway(df_noDiabetes, df_Diabetes)"
   ]
  },
  {
   "cell_type": "code",
   "execution_count": 15,
   "id": "c0a5267d",
   "metadata": {
    "scrolled": true
   },
   "outputs": [
    {
     "data": {
      "text/plain": [
       "F_onewayResult(statistic=24.422144169163662, pvalue=9.121787503867382e-07)"
      ]
     },
     "execution_count": 15,
     "metadata": {},
     "output_type": "execute_result"
    }
   ],
   "source": [
    "df_noBP = df.groupby('BloodPressureProblems').get_group(0)['PremiumPrice']\n",
    "df_BP = df.groupby('BloodPressureProblems').get_group(1)['PremiumPrice']\n",
    "f_oneway(df_noBP, df_BP)"
   ]
  },
  {
   "cell_type": "code",
   "execution_count": 16,
   "id": "189c7b48",
   "metadata": {},
   "outputs": [
    {
     "data": {
      "text/plain": [
       "F_onewayResult(statistic=91.17626361865224, pvalue=1.0476959317316363e-20)"
      ]
     },
     "execution_count": 16,
     "metadata": {},
     "output_type": "execute_result"
    }
   ],
   "source": [
    "df_noT = df.groupby('AnyTransplants').get_group(0)['PremiumPrice']\n",
    "df_T = df.groupby('AnyTransplants').get_group(1)['PremiumPrice']\n",
    "f_oneway(df_noT, df_T)"
   ]
  },
  {
   "cell_type": "code",
   "execution_count": 17,
   "id": "d77c087a",
   "metadata": {},
   "outputs": [
    {
     "data": {
      "text/plain": [
       "F_onewayResult(statistic=45.18015081323932, pvalue=3.073526340293322e-11)"
      ]
     },
     "execution_count": 17,
     "metadata": {},
     "output_type": "execute_result"
    }
   ],
   "source": [
    "df_noCD = df.groupby('AnyChronicDiseases').get_group(0)['PremiumPrice']\n",
    "df_CD = df.groupby('AnyChronicDiseases').get_group(1)['PremiumPrice']\n",
    "f_oneway(df_noCD, df_CD)"
   ]
  },
  {
   "cell_type": "code",
   "execution_count": 18,
   "id": "681d8a30",
   "metadata": {},
   "outputs": [
    {
     "data": {
      "text/plain": [
       "F_onewayResult(statistic=0.0983333860406225, pvalue=0.7539067857633162)"
      ]
     },
     "execution_count": 18,
     "metadata": {},
     "output_type": "execute_result"
    }
   ],
   "source": [
    "df_noKA = df.groupby('KnownAllergies').get_group(0)['PremiumPrice']\n",
    "df_KA = df.groupby('KnownAllergies').get_group(1)['PremiumPrice']\n",
    "f_oneway(df_noKA, df_KA)"
   ]
  },
  {
   "cell_type": "code",
   "execution_count": 19,
   "id": "08afa07c",
   "metadata": {},
   "outputs": [
    {
     "data": {
      "text/plain": [
       "F_onewayResult(statistic=7.125705401041786, pvalue=0.007726528974575876)"
      ]
     },
     "execution_count": 19,
     "metadata": {},
     "output_type": "execute_result"
    }
   ],
   "source": [
    "df_noHC = df.groupby('HistoryOfCancerInFamily').get_group(0)['PremiumPrice']\n",
    "df_HC = df.groupby('HistoryOfCancerInFamily').get_group(1)['PremiumPrice']\n",
    "f_oneway(df_noHC, df_HC)"
   ]
  },
  {
   "cell_type": "code",
   "execution_count": 20,
   "id": "fd889431",
   "metadata": {},
   "outputs": [
    {
     "data": {
      "text/plain": [
       "F_onewayResult(statistic=26.205968423877678, pvalue=2.6861256720698395e-16)"
      ]
     },
     "execution_count": 20,
     "metadata": {},
     "output_type": "execute_result"
    }
   ],
   "source": [
    "df_NS0 = df.groupby('NumberOfMajorSurgeries').get_group(0)['PremiumPrice']\n",
    "df_NS1 = df.groupby('NumberOfMajorSurgeries').get_group(1)['PremiumPrice']\n",
    "df_NS2 = df.groupby('NumberOfMajorSurgeries').get_group(2)['PremiumPrice']\n",
    "df_NS3 = df.groupby('NumberOfMajorSurgeries').get_group(3)['PremiumPrice']\n",
    "f_oneway(df_NS0, df_NS1, df_NS2, df_NS3)"
   ]
  },
  {
   "cell_type": "markdown",
   "id": "9fe467cc",
   "metadata": {},
   "source": [
    "As one can see, the p-values for the 'Diabetes', 'BloodPressureProblems', 'AnyTransplants', 'AnyChronicDiseases', and 'HistoryOfCancerInFamily' are so small (less than 0.05). Therefore, the null hypothesis that the premium price is independent of those features is rejected. Therefore, they have to be retained in the dataset. \n",
    "\n",
    "On the other hand, the p-value for the  'KnownAllergies' is not small. this implies that the null hypothesis that the premium price is independent of 'KnownAllergies' values is valid. So, we have to delete the 'KnownAllergies' from the dataset. "
   ]
  },
  {
   "cell_type": "code",
   "execution_count": 21,
   "id": "0ba673e4",
   "metadata": {},
   "outputs": [],
   "source": [
    "df.drop(columns=['KnownAllergies'], axis=1, inplace=True)"
   ]
  },
  {
   "cell_type": "markdown",
   "id": "a3123696",
   "metadata": {},
   "source": [
    "## Convert Categorical Features <a class=\"anchor\" id=\"1-5-bullet\"></a>\n",
    "\n",
    "AS we saw earlier, the values of 'NumberOfMajorSurgeries' can be 0,1,2,3. We consider it as a categorical valiable and convert it into dummy/indicator variables."
   ]
  },
  {
   "cell_type": "code",
   "execution_count": 22,
   "id": "bba85f79",
   "metadata": {
    "scrolled": true
   },
   "outputs": [
    {
     "data": {
      "text/plain": [
       "0    470\n",
       "1    363\n",
       "2    116\n",
       "3     16\n",
       "Name: NumberOfMajorSurgeries, dtype: int64"
      ]
     },
     "execution_count": 22,
     "metadata": {},
     "output_type": "execute_result"
    }
   ],
   "source": [
    "df['NumberOfMajorSurgeries'].value_counts()"
   ]
  },
  {
   "cell_type": "code",
   "execution_count": 23,
   "id": "d80ef9f5",
   "metadata": {},
   "outputs": [],
   "source": [
    "df = pd.get_dummies(df, columns=['NumberOfMajorSurgeries'], drop_first=True)"
   ]
  },
  {
   "cell_type": "code",
   "execution_count": 24,
   "id": "b9f77419",
   "metadata": {
    "scrolled": true
   },
   "outputs": [
    {
     "data": {
      "text/html": [
       "<div>\n",
       "<style scoped>\n",
       "    .dataframe tbody tr th:only-of-type {\n",
       "        vertical-align: middle;\n",
       "    }\n",
       "\n",
       "    .dataframe tbody tr th {\n",
       "        vertical-align: top;\n",
       "    }\n",
       "\n",
       "    .dataframe thead th {\n",
       "        text-align: right;\n",
       "    }\n",
       "</style>\n",
       "<table border=\"1\" class=\"dataframe\">\n",
       "  <thead>\n",
       "    <tr style=\"text-align: right;\">\n",
       "      <th></th>\n",
       "      <th>Age</th>\n",
       "      <th>Diabetes</th>\n",
       "      <th>BloodPressureProblems</th>\n",
       "      <th>AnyTransplants</th>\n",
       "      <th>AnyChronicDiseases</th>\n",
       "      <th>Weight</th>\n",
       "      <th>HistoryOfCancerInFamily</th>\n",
       "      <th>PremiumPrice</th>\n",
       "      <th>NumberOfMajorSurgeries_1</th>\n",
       "      <th>NumberOfMajorSurgeries_2</th>\n",
       "      <th>NumberOfMajorSurgeries_3</th>\n",
       "    </tr>\n",
       "  </thead>\n",
       "  <tbody>\n",
       "    <tr>\n",
       "      <th>0</th>\n",
       "      <td>45</td>\n",
       "      <td>0</td>\n",
       "      <td>0</td>\n",
       "      <td>0</td>\n",
       "      <td>0</td>\n",
       "      <td>57</td>\n",
       "      <td>0</td>\n",
       "      <td>25000</td>\n",
       "      <td>0</td>\n",
       "      <td>0</td>\n",
       "      <td>0</td>\n",
       "    </tr>\n",
       "    <tr>\n",
       "      <th>1</th>\n",
       "      <td>60</td>\n",
       "      <td>1</td>\n",
       "      <td>0</td>\n",
       "      <td>0</td>\n",
       "      <td>0</td>\n",
       "      <td>73</td>\n",
       "      <td>0</td>\n",
       "      <td>29000</td>\n",
       "      <td>0</td>\n",
       "      <td>0</td>\n",
       "      <td>0</td>\n",
       "    </tr>\n",
       "    <tr>\n",
       "      <th>2</th>\n",
       "      <td>36</td>\n",
       "      <td>1</td>\n",
       "      <td>1</td>\n",
       "      <td>0</td>\n",
       "      <td>0</td>\n",
       "      <td>59</td>\n",
       "      <td>0</td>\n",
       "      <td>23000</td>\n",
       "      <td>1</td>\n",
       "      <td>0</td>\n",
       "      <td>0</td>\n",
       "    </tr>\n",
       "    <tr>\n",
       "      <th>3</th>\n",
       "      <td>52</td>\n",
       "      <td>1</td>\n",
       "      <td>1</td>\n",
       "      <td>0</td>\n",
       "      <td>1</td>\n",
       "      <td>93</td>\n",
       "      <td>0</td>\n",
       "      <td>28000</td>\n",
       "      <td>0</td>\n",
       "      <td>1</td>\n",
       "      <td>0</td>\n",
       "    </tr>\n",
       "    <tr>\n",
       "      <th>4</th>\n",
       "      <td>38</td>\n",
       "      <td>0</td>\n",
       "      <td>0</td>\n",
       "      <td>0</td>\n",
       "      <td>1</td>\n",
       "      <td>88</td>\n",
       "      <td>0</td>\n",
       "      <td>23000</td>\n",
       "      <td>1</td>\n",
       "      <td>0</td>\n",
       "      <td>0</td>\n",
       "    </tr>\n",
       "  </tbody>\n",
       "</table>\n",
       "</div>"
      ],
      "text/plain": [
       "   Age  Diabetes  BloodPressureProblems  AnyTransplants  AnyChronicDiseases  \\\n",
       "0   45         0                      0               0                   0   \n",
       "1   60         1                      0               0                   0   \n",
       "2   36         1                      1               0                   0   \n",
       "3   52         1                      1               0                   1   \n",
       "4   38         0                      0               0                   1   \n",
       "\n",
       "   Weight  HistoryOfCancerInFamily  PremiumPrice  NumberOfMajorSurgeries_1  \\\n",
       "0      57                        0         25000                         0   \n",
       "1      73                        0         29000                         0   \n",
       "2      59                        0         23000                         1   \n",
       "3      93                        0         28000                         0   \n",
       "4      88                        0         23000                         1   \n",
       "\n",
       "   NumberOfMajorSurgeries_2  NumberOfMajorSurgeries_3  \n",
       "0                         0                         0  \n",
       "1                         0                         0  \n",
       "2                         0                         0  \n",
       "3                         1                         0  \n",
       "4                         0                         0  "
      ]
     },
     "execution_count": 24,
     "metadata": {},
     "output_type": "execute_result"
    }
   ],
   "source": [
    "df.head()"
   ]
  },
  {
   "cell_type": "code",
   "execution_count": 25,
   "id": "82b4edbc",
   "metadata": {
    "scrolled": true
   },
   "outputs": [
    {
     "name": "stdout",
     "output_type": "stream",
     "text": [
      "<class 'pandas.core.frame.DataFrame'>\n",
      "Int64Index: 965 entries, 0 to 985\n",
      "Data columns (total 11 columns):\n",
      " #   Column                    Non-Null Count  Dtype\n",
      "---  ------                    --------------  -----\n",
      " 0   Age                       965 non-null    int64\n",
      " 1   Diabetes                  965 non-null    int64\n",
      " 2   BloodPressureProblems     965 non-null    int64\n",
      " 3   AnyTransplants            965 non-null    int64\n",
      " 4   AnyChronicDiseases        965 non-null    int64\n",
      " 5   Weight                    965 non-null    int64\n",
      " 6   HistoryOfCancerInFamily   965 non-null    int64\n",
      " 7   PremiumPrice              965 non-null    int64\n",
      " 8   NumberOfMajorSurgeries_1  965 non-null    uint8\n",
      " 9   NumberOfMajorSurgeries_2  965 non-null    uint8\n",
      " 10  NumberOfMajorSurgeries_3  965 non-null    uint8\n",
      "dtypes: int64(8), uint8(3)\n",
      "memory usage: 70.7 KB\n"
     ]
    }
   ],
   "source": [
    "df.info()"
   ]
  },
  {
   "cell_type": "markdown",
   "id": "47c0b3ab",
   "metadata": {},
   "source": [
    "## Determining Normality <a class=\"anchor\" id=\"1-6-bullet\"></a>\n",
    "\n",
    "For the linear regression methods it is assumed that the residuals of the model has normal distribution. Normalizing the premium price helps to have a normally distributed residuals; however, it is not necessary by assumed by the linear regression methods. In the following, we first investigate whether the premium price has normally distributed values or not.  "
   ]
  },
  {
   "cell_type": "code",
   "execution_count": 26,
   "id": "c3642381",
   "metadata": {
    "scrolled": true
   },
   "outputs": [
    {
     "data": {
      "text/plain": [
       "<AxesSubplot:>"
      ]
     },
     "execution_count": 26,
     "metadata": {},
     "output_type": "execute_result"
    },
    {
     "data": {
      "image/png": "[encoded data removed]",
      "text/plain": [
       "<Figure size 432x288 with 1 Axes>"
      ]
     },
     "metadata": {
      "needs_background": "light"
     },
     "output_type": "display_data"
    }
   ],
   "source": [
    "df.PremiumPrice.hist()"
   ]
  },
  {
   "cell_type": "markdown",
   "id": "972324ad",
   "metadata": {},
   "source": [
    "The normality can be evaluated using normaltest as follows:"
   ]
  },
  {
   "cell_type": "code",
   "execution_count": 27,
   "id": "43a66334",
   "metadata": {},
   "outputs": [
    {
     "data": {
      "text/plain": [
       "NormaltestResult(statistic=16.11967946721973, pvalue=0.0003159774418077449)"
      ]
     },
     "execution_count": 27,
     "metadata": {},
     "output_type": "execute_result"
    }
   ],
   "source": [
    "normaltest(df.PremiumPrice)"
   ]
  },
  {
   "cell_type": "markdown",
   "id": "efd6362a",
   "metadata": {},
   "source": [
    "Since the pvalue=0.0003 is less than 0.05 (our considered limit) the null hypothesis that the distribution is normal is rejected, so we need to apply a transformation on the Premium Price as follows :"
   ]
  },
  {
   "cell_type": "code",
   "execution_count": 28,
   "id": "88add9f6",
   "metadata": {
    "scrolled": true
   },
   "outputs": [
    {
     "name": "stdout",
     "output_type": "stream",
     "text": [
      "The obtained value for lambda by boxcox transformation: 0.813 \n"
     ]
    }
   ],
   "source": [
    "PriceTrans, lmbda = boxcox(df.PremiumPrice)\n",
    "print('The obtained value for lambda by boxcox transformation: %0.3f ' %lmbda)"
   ]
  },
  {
   "cell_type": "markdown",
   "id": "1df4a1c5",
   "metadata": {},
   "source": [
    "For the linear regression usually it assumes that the residuals of the model has normal distribution. "
   ]
  },
  {
   "cell_type": "code",
   "execution_count": 29,
   "id": "09f6c6d6",
   "metadata": {},
   "outputs": [
    {
     "data": {
      "text/plain": [
       "NormaltestResult(statistic=23.893715650327767, pvalue=6.4795608162701975e-06)"
      ]
     },
     "execution_count": 29,
     "metadata": {},
     "output_type": "execute_result"
    }
   ],
   "source": [
    "normaltest(PriceTrans)"
   ]
  },
  {
   "cell_type": "markdown",
   "id": "10de3b70",
   "metadata": {},
   "source": [
    "As you can see the normaltest confirms that the distribution of the premium price is now normal."
   ]
  },
  {
   "cell_type": "markdown",
   "id": "aa1208b2",
   "metadata": {},
   "source": [
    "Lets have a look at the histogram of the transformed premium price now:"
   ]
  },
  {
   "cell_type": "code",
   "execution_count": 30,
   "id": "7e02dbb2",
   "metadata": {},
   "outputs": [
    {
     "data": {
      "text/plain": [
       "<AxesSubplot:>"
      ]
     },
     "execution_count": 30,
     "metadata": {},
     "output_type": "execute_result"
    },
    {
     "data": {
      "image/png": "[encoded data removed]",
      "text/plain": [
       "<Figure size 432x288 with 1 Axes>"
      ]
     },
     "metadata": {
      "needs_background": "light"
     },
     "output_type": "display_data"
    }
   ],
   "source": [
    "df['PremiumPrice'] = PriceTrans\n",
    "df['PremiumPrice'].hist()"
   ]
  },
  {
   "cell_type": "markdown",
   "id": "d5496fa4",
   "metadata": {},
   "source": [
    "# Linear Regression <a class=\"anchor\" id=\"second-bullet\"></a>\n",
    "\n",
    "The data is now clean and ready to be employed for the ML approaches. Let us first define the dependent, y, and independent, X, variables as follows:"
   ]
  },
  {
   "cell_type": "code",
   "execution_count": 31,
   "id": "7e88e8bd",
   "metadata": {},
   "outputs": [],
   "source": [
    "X = df.drop(columns=['PremiumPrice'], axis=1)\n",
    "y = df.PremiumPrice"
   ]
  },
  {
   "cell_type": "markdown",
   "id": "3441b0c5",
   "metadata": {},
   "source": [
    "## A simple Linear Regression<a class=\"anchor\" id=\"2-1-bullet\"></a>\n",
    "\n",
    "As an initial step, we consider obtaining a plain linear regression model for our dataset to predict the premium price based on the available featuresas follows:"
   ]
  },
  {
   "cell_type": "code",
   "execution_count": 32,
   "id": "a477de02",
   "metadata": {},
   "outputs": [
    {
     "name": "stdout",
     "output_type": "stream",
     "text": [
      "The R2 Score:  0.652734900230664\n"
     ]
    }
   ],
   "source": [
    "X_tr, X_te, y_tr, y_te = train_test_split(X, y, test_size=0.25, \n",
    "                                                    random_state=1979, shuffle=True)\n",
    "\n",
    "scaler = StandardScaler()\n",
    "X_tr_sc = X_tr.copy()\n",
    "X_tr_sc[['Age', 'Weight']] = scaler.fit_transform(X_tr[['Age', 'Weight']])\n",
    "\n",
    "lr = LinearRegression()\n",
    "lr.fit(X_tr_sc, y_tr)\n",
    "\n",
    "X_te_sc = X_te.copy()\n",
    "X_te_sc[['Age', 'Weight']] = scaler.transform(X_te[['Age', 'Weight']])\n",
    "y_te_pr = lr.predict(X_te_sc)\n",
    "\n",
    "# since we have already transformed the premium price to have normally distributed \n",
    "# values, to evaluate the model we revert it back to the true values using inv_boxcox\n",
    "# with the same value for lmbda = 0.813\n",
    "y_te_true = inv_boxcox(y_te, lmbda)\n",
    "y_te_pr_true = inv_boxcox(y_te_pr, lmbda)\n",
    "\n",
    "print('The R2 Score: ', r2_score(y_true=y_te_true, y_pred=y_te_pr_true))"
   ]
  },
  {
   "cell_type": "markdown",
   "id": "5035a7b0",
   "metadata": {},
   "source": [
    "Lets have a look at the obtained coefficients of our linear model:"
   ]
  },
  {
   "cell_type": "code",
   "execution_count": 33,
   "id": "48e26d1d",
   "metadata": {},
   "outputs": [
    {
     "data": {
      "text/html": [
       "<div>\n",
       "<style scoped>\n",
       "    .dataframe tbody tr th:only-of-type {\n",
       "        vertical-align: middle;\n",
       "    }\n",
       "\n",
       "    .dataframe tbody tr th {\n",
       "        vertical-align: top;\n",
       "    }\n",
       "\n",
       "    .dataframe thead th {\n",
       "        text-align: right;\n",
       "    }\n",
       "</style>\n",
       "<table border=\"1\" class=\"dataframe\">\n",
       "  <thead>\n",
       "    <tr style=\"text-align: right;\">\n",
       "      <th></th>\n",
       "      <th>Feature</th>\n",
       "      <th>Coefficient</th>\n",
       "    </tr>\n",
       "  </thead>\n",
       "  <tbody>\n",
       "    <tr>\n",
       "      <th>0</th>\n",
       "      <td>Age</td>\n",
       "      <td>727.534742</td>\n",
       "    </tr>\n",
       "    <tr>\n",
       "      <th>1</th>\n",
       "      <td>Diabetes</td>\n",
       "      <td>-13.968134</td>\n",
       "    </tr>\n",
       "    <tr>\n",
       "      <th>2</th>\n",
       "      <td>BloodPressureProblems</td>\n",
       "      <td>-29.841265</td>\n",
       "    </tr>\n",
       "    <tr>\n",
       "      <th>3</th>\n",
       "      <td>AnyTransplants</td>\n",
       "      <td>1361.887448</td>\n",
       "    </tr>\n",
       "    <tr>\n",
       "      <th>4</th>\n",
       "      <td>AnyChronicDiseases</td>\n",
       "      <td>382.655263</td>\n",
       "    </tr>\n",
       "    <tr>\n",
       "      <th>5</th>\n",
       "      <td>Weight</td>\n",
       "      <td>156.650265</td>\n",
       "    </tr>\n",
       "    <tr>\n",
       "      <th>6</th>\n",
       "      <td>HistoryOfCancerInFamily</td>\n",
       "      <td>292.021239</td>\n",
       "    </tr>\n",
       "    <tr>\n",
       "      <th>7</th>\n",
       "      <td>NumberOfMajorSurgeries_1</td>\n",
       "      <td>41.072027</td>\n",
       "    </tr>\n",
       "    <tr>\n",
       "      <th>8</th>\n",
       "      <td>NumberOfMajorSurgeries_2</td>\n",
       "      <td>-260.954003</td>\n",
       "    </tr>\n",
       "    <tr>\n",
       "      <th>9</th>\n",
       "      <td>NumberOfMajorSurgeries_3</td>\n",
       "      <td>-389.497903</td>\n",
       "    </tr>\n",
       "    <tr>\n",
       "      <th>10</th>\n",
       "      <td>Intercept</td>\n",
       "      <td>4365.104994</td>\n",
       "    </tr>\n",
       "  </tbody>\n",
       "</table>\n",
       "</div>"
      ],
      "text/plain": [
       "                     Feature  Coefficient\n",
       "0                        Age   727.534742\n",
       "1                   Diabetes   -13.968134\n",
       "2      BloodPressureProblems   -29.841265\n",
       "3             AnyTransplants  1361.887448\n",
       "4         AnyChronicDiseases   382.655263\n",
       "5                     Weight   156.650265\n",
       "6    HistoryOfCancerInFamily   292.021239\n",
       "7   NumberOfMajorSurgeries_1    41.072027\n",
       "8   NumberOfMajorSurgeries_2  -260.954003\n",
       "9   NumberOfMajorSurgeries_3  -389.497903\n",
       "10                 Intercept  4365.104994"
      ]
     },
     "execution_count": 33,
     "metadata": {},
     "output_type": "execute_result"
    }
   ],
   "source": [
    "lr_res = pd.DataFrame(zip(X_tr.columns.tolist(),lr.coef_)).rename({0:'Feature', 1:'Coefficient'}, axis=1)\n",
    "lr_res.loc[len(lr_res.index)] = ['Intercept', lr.intercept_]\n",
    "lr_res"
   ]
  },
  {
   "cell_type": "markdown",
   "id": "5b9e7698",
   "metadata": {},
   "source": [
    "Below you can see a representation of the predicted values versus the real ones:"
   ]
  },
  {
   "cell_type": "code",
   "execution_count": 34,
   "id": "7c30f504",
   "metadata": {},
   "outputs": [
    {
     "data": {
      "text/plain": [
       "[Text(0.5, 0, 'Ground truth'),\n",
       " Text(0, 0.5, 'Prediction'),\n",
       " Text(0.5, 1.0, 'Predicted versus True Premium Price')]"
      ]
     },
     "execution_count": 34,
     "metadata": {},
     "output_type": "execute_result"
    },
    {
     "data": {
      "image/png": "[encoded data removed]",
      "text/plain": [
       "<Figure size 432x288 with 1 Axes>"
      ]
     },
     "metadata": {},
     "output_type": "display_data"
    }
   ],
   "source": [
    "sns.set_context('talk')\n",
    "sns.set_style('ticks')\n",
    "sns.set_palette('dark')\n",
    "\n",
    "plt.scatter(x=y_te_true, y=y_te_pr_true)\n",
    "ax = plt.gca()\n",
    "ax.set(xlabel='Ground truth', ylabel='Prediction', title='Predicted versus True Premium Price')"
   ]
  },
  {
   "cell_type": "markdown",
   "id": "2f2cf591",
   "metadata": {},
   "source": [
    "# Linear Regression with Regularization <a class=\"anchor\" id=\"third-bullet\"></a>\n",
    "\n",
    "Now to reduce the variance error of the model and have a better model we utilize the regularization techniques available in the scikit-learn library. As the first step, let us use the Ridge in which an l2 norm of the coefficients is also considered in the cost function to obtain the model coefficients."
   ]
  },
  {
   "cell_type": "markdown",
   "id": "2ff3b1a0",
   "metadata": {},
   "source": [
    "### Ridge <a class=\"anchor\" id=\"3-1-bullet\"></a>"
   ]
  },
  {
   "cell_type": "code",
   "execution_count": 35,
   "id": "b42be8eb",
   "metadata": {},
   "outputs": [
    {
     "name": "stdout",
     "output_type": "stream",
     "text": [
      "The best R2 score equal to 0.716 for linear regression using Ridge\n",
      "is obtained with alpha = 1.072.\n"
     ]
    },
    {
     "data": {
      "image/png": "[encoded data removed]",
      "text/plain": [
       "<Figure size 432x288 with 1 Axes>"
      ]
     },
     "metadata": {},
     "output_type": "display_data"
    }
   ],
   "source": [
    "poly = PolynomialFeatures(degree=2, include_bias=False)\n",
    "X_po = poly.fit_transform(X)\n",
    "\n",
    "X_po_tr, X_po_te, y_tr, y_te = train_test_split(X_po, y, test_size=0.3, \n",
    "                                   shuffle=True, random_state=1979)\n",
    "\n",
    "scaler_po = StandardScaler()\n",
    "X_po_tr_sc = scaler_po.fit_transform(X_po_tr)\n",
    "\n",
    "ridge_alphas = np.geomspace(1e-1,1e1,100)\n",
    "y_te_true = inv_boxcox(y_te, lmbda)\n",
    "ridge_res = list()\n",
    "\n",
    "for alpha in ridge_alphas:\n",
    "    ridge = Ridge(alpha=alpha, max_iter=100000)\n",
    "    ridge.fit(X_po_tr_sc, y_tr)\n",
    "\n",
    "    X_po_te_sc = scaler_po.transform(X_po_te)\n",
    "    y_te_pr = ridge.predict(X_po_te_sc)\n",
    "\n",
    "    y_te_pr_true = inv_boxcox(y_te_pr, lmbda)\n",
    "    ridge_res.append(r2_score(y_true=y_te_true, y_pred=y_te_pr_true))\n",
    "\n",
    "ax =plt.axes()\n",
    "ax.semilogx(ridge_alphas, ridge_res)\n",
    "ax.set(xlabel='alpha', ylabel='R2 Score', title='The R2 score for different alphas')\n",
    "\n",
    "\n",
    "print('''The best R2 score equal to {0:1.3f} for linear regression using Ridge\n",
    "is obtained with alpha = {1:1.3f}.'''.format(np.max(ridge_res), ridge_alphas[np.argmax(ridge_res)]))\n"
   ]
  },
  {
   "cell_type": "markdown",
   "id": "1b2e24cf",
   "metadata": {},
   "source": [
    "Now, lets have a look at the root mean squared error (rmse) and the R2 score for the obtained model. Furthermore, we investigate the number of features whose related coefficients are zero."
   ]
  },
  {
   "cell_type": "code",
   "execution_count": 36,
   "id": "5168df1e",
   "metadata": {},
   "outputs": [
    {
     "name": "stdout",
     "output_type": "stream",
     "text": [
      "The sum of coefficients obtained by Ridge: 8817.9801\n",
      "The number of zero coefficients equal to 6.\n",
      "The root mean squared error (rmse) equal to 3271.728 for linear regression using Ridge\n",
      "is obtained with alpha = 1.072.\n"
     ]
    }
   ],
   "source": [
    "ridge_alpha_best = ridge_alphas[np.argmax(ridge_res)]\n",
    "\n",
    "ridge = Ridge(alpha=ridge_alpha_best, max_iter=100000)\n",
    "ridge.fit(X_po_tr_sc, y_tr)\n",
    "\n",
    "y_te_pr = ridge.predict(X_po_te_sc)\n",
    "y_te_pr_true = inv_boxcox(y_te_pr, lmbda)\n",
    "ridge_rmse = mean_squared_error(y_true=y_te_true, y_pred=y_te_pr_true, squared=False )\n",
    "\n",
    "\n",
    "print('The sum of coefficients obtained by Ridge: %4.4f' %abs(ridge.coef_).sum())\n",
    "\n",
    "print('The number of zero coefficients equal to %i.' %len(ridge.coef_[ridge.coef_==0]))\n",
    "\n",
    "print('''The root mean squared error (rmse) equal to {0:1.3f} for linear regression using Ridge\n",
    "is obtained with alpha = {1:1.3f}.'''.format(ridge_rmse, ridge_alphas[np.argmax(ridge_res)]))"
   ]
  },
  {
   "cell_type": "markdown",
   "id": "ad410e84",
   "metadata": {},
   "source": [
    "## LASSO <a class=\"anchor\" id=\"3-2-bullet\"></a>\n",
    "\n",
    "Alternatively, we use LASSO in which an l1 norm of the coefficients contributed into the cost function to obtain the coefficients of the linear model. "
   ]
  },
  {
   "cell_type": "code",
   "execution_count": 37,
   "id": "d6994e52",
   "metadata": {
    "scrolled": false
   },
   "outputs": [
    {
     "name": "stdout",
     "output_type": "stream",
     "text": [
      "The best R2 score equal to 0.720 for linear regression using Lasso\n",
      "    is obtained with alpha = 1.707.\n"
     ]
    },
    {
     "data": {
      "image/png": "[encoded data removed]",
      "text/plain": [
       "<Figure size 432x288 with 1 Axes>"
      ]
     },
     "metadata": {},
     "output_type": "display_data"
    }
   ],
   "source": [
    "poly = PolynomialFeatures(degree=2, include_bias=False)\n",
    "X_po = poly.fit_transform(X)\n",
    "\n",
    "X_po_tr, X_po_te, y_tr, y_te = train_test_split(X_po, y, test_size=0.3, \n",
    "                                   shuffle=True, random_state=1979)\n",
    "\n",
    "scaler_po = StandardScaler()\n",
    "X_po_tr_sc = scaler_po.fit_transform(X_po_tr)\n",
    "\n",
    "lasso_alphas = np.geomspace(1e-1,1e1,100)\n",
    "y_te_true = inv_boxcox(y_te, lmbda)\n",
    "lasso_res = list()\n",
    "\n",
    "for alpha in lasso_alphas:\n",
    "    lasso = Lasso(alpha=alpha, max_iter=10000)\n",
    "    lasso.fit(X_po_tr_sc, y_tr)\n",
    "\n",
    "    X_po_te_sc = scaler_po.transform(X_po_te)\n",
    "    y_te_pr = lasso.predict(X_po_te_sc)\n",
    "\n",
    "    y_te_pr_true = inv_boxcox(y_te_pr, lmbda)\n",
    "    lasso_res.append(r2_score(y_true=y_te_true, y_pred=y_te_pr_true))\n",
    "\n",
    "ax = plt.axes()\n",
    "ax.semilogx(lasso_alphas, lasso_res)\n",
    "ax.set(xlabel='alpha', ylabel='R2 Score', title='The R2 score for different alphas')\n",
    "\n",
    "print('''The best R2 score equal to {0:1.3f} for linear regression using Lasso\n",
    "    is obtained with alpha = {1:1.3f}.'''.format(np.max(lasso_res), lasso_alphas[np.argmax(lasso_res)]))"
   ]
  },
  {
   "cell_type": "code",
   "execution_count": 38,
   "id": "ba6c3b1e",
   "metadata": {},
   "outputs": [
    {
     "name": "stdout",
     "output_type": "stream",
     "text": [
      "The sum of coefficients obtained by Lasso: 6542.3454\n",
      "The number of zero coefficients equal to 21.\n",
      "The root mean squared error (rmse) equal to 3251.581 for linear regression using Lasso\n",
      "is obtained with alpha = 1.707.\n"
     ]
    }
   ],
   "source": [
    "lasso_alpha_best = lasso_alphas[np.argmax(lasso_res)]\n",
    "\n",
    "lasso = Lasso(alpha=lasso_alpha_best, max_iter=100000)\n",
    "lasso.fit(X_po_tr_sc, y_tr)\n",
    "\n",
    "y_te_pr = lasso.predict(X_po_te_sc)\n",
    "y_te_pr_true = inv_boxcox(y_te_pr, lmbda)\n",
    "lasso_rmse = mean_squared_error(y_true=y_te_true, y_pred=y_te_pr_true, squared=False )\n",
    "\n",
    "print('The sum of coefficients obtained by Lasso: %4.4f' %abs(lasso.coef_).sum())\n",
    "\n",
    "print('The number of zero coefficients equal to %i.' %len(lasso.coef_[lasso.coef_==0]))\n",
    "\n",
    "print('''The root mean squared error (rmse) equal to {0:1.3f} for linear regression using Lasso\n",
    "is obtained with alpha = {1:1.3f}.'''.format(lasso_rmse, lasso_alphas[np.argmax(lasso_res)]))"
   ]
  },
  {
   "cell_type": "markdown",
   "id": "50e97dbe",
   "metadata": {},
   "source": [
    "As one can easily see, the number of features with zero coefficients is higher that of Ridge in the obtained model by LASSO. "
   ]
  },
  {
   "cell_type": "markdown",
   "id": "c5280f8f",
   "metadata": {},
   "source": [
    "##  Elastic Net <a class=\"anchor\" id=\"3-3-bullet\"></a>\n",
    "\n",
    "Elastic Net takes advantage of both l1 and l2 norms of the coefficients for the regularization. The obtained results by ElasticNet() is given below:"
   ]
  },
  {
   "cell_type": "code",
   "execution_count": 39,
   "id": "53b17497",
   "metadata": {},
   "outputs": [
    {
     "name": "stdout",
     "output_type": "stream",
     "text": [
      "The best R2 score equal to 0.716 for linear regression using Elastic Net\n",
      "    is obtained with alpha = 0.003.\n"
     ]
    },
    {
     "data": {
      "image/png": "[encoded data removed]",
      "text/plain": [
       "<Figure size 432x288 with 1 Axes>"
      ]
     },
     "metadata": {},
     "output_type": "display_data"
    }
   ],
   "source": [
    "poly = PolynomialFeatures(degree=2, include_bias=False)\n",
    "X_po = poly.fit_transform(X)\n",
    "\n",
    "X_po_tr, X_po_te, y_tr, y_te = train_test_split(X_po, y, test_size=0.3, \n",
    "                                   shuffle=True, random_state=1979)\n",
    "\n",
    "scaler_po = StandardScaler()\n",
    "X_po_tr_sc = scaler_po.fit_transform(X_po_tr)\n",
    "\n",
    "elastic_alphas = np.geomspace(1e-3,1e-2,100)\n",
    "y_te_true = inv_boxcox(y_te, lmbda)\n",
    "elastic_res = list()\n",
    "\n",
    "for alpha in elastic_alphas:\n",
    "    elastic = ElasticNet(alpha=alpha, l1_ratio=0.5, max_iter=10000)\n",
    "    elastic.fit(X_po_tr_sc, y_tr)\n",
    "\n",
    "    X_po_te_sc = scaler_po.transform(X_po_te)\n",
    "    y_te_pr = elastic.predict(X_po_te_sc)\n",
    "\n",
    "    y_te_pr_true = inv_boxcox(y_te_pr, lmbda)\n",
    "    elastic_res.append(r2_score(y_true=y_te_true, y_pred=y_te_pr_true))\n",
    "\n",
    "ax = plt.axes()\n",
    "ax.semilogx(elastic_alphas, elastic_res)\n",
    "ax.set(xlabel='alpha', ylabel='R2 Score', title='The R2 score for different alphas')\n",
    "\n",
    "print('''The best R2 score equal to {0:1.3f} for linear regression using Elastic Net\n",
    "    is obtained with alpha = {1:1.3f}.'''.format(np.max(elastic_res), elastic_alphas[np.argmax(elastic_res)]))"
   ]
  },
  {
   "cell_type": "code",
   "execution_count": 40,
   "id": "811284e7",
   "metadata": {},
   "outputs": [
    {
     "name": "stdout",
     "output_type": "stream",
     "text": [
      "The sum of coefficients obtained by Elastic Net: 8827.4063\n",
      "The number of zero coefficients equal to 6.\n",
      "The root mean squared error (rmse) equal to 3271.687 for linear regression using Elastic Net\n",
      "is obtained with alpha = 0.003.\n"
     ]
    }
   ],
   "source": [
    "elastic_alpha_best = elastic_alphas[np.argmax(elastic_res)]\n",
    "elastic = ElasticNet(alpha=elastic_alpha_best, max_iter=100000)\n",
    "elastic.fit(X_po_tr_sc, y_tr)\n",
    "\n",
    "y_te_pr = elastic.predict(X_po_te_sc)\n",
    "y_te_pr_true = inv_boxcox(y_te_pr, lmbda)\n",
    "elastic_rmse = mean_squared_error(y_true=y_te_true, y_pred=y_te_pr_true, squared=False )\n",
    "\n",
    "\n",
    "print('The sum of coefficients obtained by Elastic Net: %4.4f' %abs(elastic.coef_).sum())\n",
    "\n",
    "print('The number of zero coefficients equal to %i.' %len(elastic.coef_[elastic.coef_==0]))\n",
    "\n",
    "print('''The root mean squared error (rmse) equal to {0:1.3f} for linear regression using Elastic Net\n",
    "is obtained with alpha = {1:1.3f}.'''.format(elastic_rmse, elastic_alphas[np.argmax(elastic_res)]))"
   ]
  },
  {
   "cell_type": "markdown",
   "id": "158185e0",
   "metadata": {},
   "source": [
    "## Linear Regression Results <a class=\"anchor\" id=\"3-4-bullet\"></a>\n",
    "\n",
    "For the comparison purposes, we have summarized the obtained results by Ridge, Lasso, and ElasticNet in this subsection."
   ]
  },
  {
   "cell_type": "code",
   "execution_count": 41,
   "id": "bf6a0ce9",
   "metadata": {},
   "outputs": [],
   "source": [
    "ridge_series = pd.Series([abs(ridge.coef_).sum().round(2), len(ridge.coef_[ridge.coef_==0]),\n",
    "                         np.max(ridge_res).round(4), np.max(ridge_rmse).round(2)],\n",
    "                        index=['Sum of coeff.', 'Number of zero Coeff.', 'R2 score', 'RMSE'],\n",
    "                        name='Ridge')\n",
    "\n",
    "lasso_series = pd.Series([abs(lasso.coef_).sum().round(2), len(lasso.coef_[lasso.coef_==0]),\n",
    "                         np.max(lasso_res).round(4), np.max(lasso_rmse).round(2)],\n",
    "                        index=['Sum of coeff.', 'Number of zero Coeff.', 'R2 score', 'RMSE'],\n",
    "                        name='Lasso')\n",
    "\n",
    "elastic_series = pd.Series([abs(elastic.coef_).sum().round(2), len(elastic.coef_[elastic.coef_==0]),\n",
    "                         np.max(elastic_res).round(4), np.max(elastic_rmse).round(2)],\n",
    "                        index=['Sum of coeff.', 'Number of zero Coeff.', 'R2 score', 'RMSE'],\n",
    "                        name='Elastic Net')\n",
    "\n",
    "RES = pd.DataFrame([ridge_series, lasso_series, elastic_series])"
   ]
  },
  {
   "cell_type": "code",
   "execution_count": 42,
   "id": "86f6eb6e",
   "metadata": {
    "scrolled": true
   },
   "outputs": [
    {
     "data": {
      "text/html": [
       "<div>\n",
       "<style scoped>\n",
       "    .dataframe tbody tr th:only-of-type {\n",
       "        vertical-align: middle;\n",
       "    }\n",
       "\n",
       "    .dataframe tbody tr th {\n",
       "        vertical-align: top;\n",
       "    }\n",
       "\n",
       "    .dataframe thead th {\n",
       "        text-align: right;\n",
       "    }\n",
       "</style>\n",
       "<table border=\"1\" class=\"dataframe\">\n",
       "  <thead>\n",
       "    <tr style=\"text-align: right;\">\n",
       "      <th></th>\n",
       "      <th>Sum of coeff.</th>\n",
       "      <th>Number of zero Coeff.</th>\n",
       "      <th>R2 score</th>\n",
       "      <th>RMSE</th>\n",
       "    </tr>\n",
       "  </thead>\n",
       "  <tbody>\n",
       "    <tr>\n",
       "      <th>Ridge</th>\n",
       "      <td>8817.98</td>\n",
       "      <td>6.0</td>\n",
       "      <td>0.7164</td>\n",
       "      <td>3271.73</td>\n",
       "    </tr>\n",
       "    <tr>\n",
       "      <th>Lasso</th>\n",
       "      <td>6542.35</td>\n",
       "      <td>21.0</td>\n",
       "      <td>0.7199</td>\n",
       "      <td>3251.58</td>\n",
       "    </tr>\n",
       "    <tr>\n",
       "      <th>Elastic Net</th>\n",
       "      <td>8827.41</td>\n",
       "      <td>6.0</td>\n",
       "      <td>0.7164</td>\n",
       "      <td>3271.69</td>\n",
       "    </tr>\n",
       "  </tbody>\n",
       "</table>\n",
       "</div>"
      ],
      "text/plain": [
       "             Sum of coeff.  Number of zero Coeff.  R2 score     RMSE\n",
       "Ridge              8817.98                    6.0    0.7164  3271.73\n",
       "Lasso              6542.35                   21.0    0.7199  3251.58\n",
       "Elastic Net        8827.41                    6.0    0.7164  3271.69"
      ]
     },
     "execution_count": 42,
     "metadata": {},
     "output_type": "execute_result"
    }
   ],
   "source": [
    "RES"
   ]
  },
  {
   "cell_type": "markdown",
   "id": "0d3dca6b",
   "metadata": {},
   "source": [
    "## Linear Regression: Cross-Validation <a class=\"anchor\" id=\"3-5-bullet\"></a>\n",
    "\n",
    "To improve the performance of our linear model, we have considered adding some new features to our dataset as follows. "
   ]
  },
  {
   "cell_type": "code",
   "execution_count": 43,
   "id": "d252e9f3",
   "metadata": {},
   "outputs": [],
   "source": [
    "X['new1'] = X['Weight'] / X['Age'] \n",
    "X['new2'] = X['Diabetes'] * X['BloodPressureProblems'] * X['AnyTransplants'] * X['AnyChronicDiseases']"
   ]
  },
  {
   "cell_type": "markdown",
   "id": "631b0859",
   "metadata": {},
   "source": [
    "Now, using the aforementioned introduced features and taking advantage of LassoCV, RidgeCV, and ElasticNetCV, we have evaluated the impacts of adding these new features to our dataset as follows: "
   ]
  },
  {
   "cell_type": "code",
   "execution_count": 44,
   "id": "16e3fdaf",
   "metadata": {},
   "outputs": [
    {
     "data": {
      "text/html": [
       "<div>\n",
       "<style scoped>\n",
       "    .dataframe tbody tr th:only-of-type {\n",
       "        vertical-align: middle;\n",
       "    }\n",
       "\n",
       "    .dataframe tbody tr th {\n",
       "        vertical-align: top;\n",
       "    }\n",
       "\n",
       "    .dataframe thead th {\n",
       "        text-align: right;\n",
       "    }\n",
       "</style>\n",
       "<table border=\"1\" class=\"dataframe\">\n",
       "  <thead>\n",
       "    <tr style=\"text-align: right;\">\n",
       "      <th></th>\n",
       "      <th>R2 score</th>\n",
       "      <th>RMSE</th>\n",
       "    </tr>\n",
       "  </thead>\n",
       "  <tbody>\n",
       "    <tr>\n",
       "      <th>Ridge</th>\n",
       "      <td>0.759160</td>\n",
       "      <td>3029.111040</td>\n",
       "    </tr>\n",
       "    <tr>\n",
       "      <th>Lasso</th>\n",
       "      <td>0.758380</td>\n",
       "      <td>3034.009969</td>\n",
       "    </tr>\n",
       "    <tr>\n",
       "      <th>Elastic Net</th>\n",
       "      <td>0.758525</td>\n",
       "      <td>3033.095767</td>\n",
       "    </tr>\n",
       "  </tbody>\n",
       "</table>\n",
       "</div>"
      ],
      "text/plain": [
       "             R2 score         RMSE\n",
       "Ridge        0.759160  3029.111040\n",
       "Lasso        0.758380  3034.009969\n",
       "Elastic Net  0.758525  3033.095767"
      ]
     },
     "execution_count": 44,
     "metadata": {},
     "output_type": "execute_result"
    }
   ],
   "source": [
    "X_tr, X_te, y_tr, y_te = train_test_split(X, y, test_size=0.25, \n",
    "                                    random_state=1979, shuffle=True)\n",
    "\n",
    "\n",
    "poly = PolynomialFeatures(degree=2, include_bias=False)\n",
    "X_tr_po = poly.fit_transform(X_tr)\n",
    "\n",
    "scaler_po = StandardScaler()\n",
    "X_tr_po_sc = scaler_po.fit_transform(X_tr_po)\n",
    "y_te_true = inv_boxcox(y_te, lmbda)\n",
    "\n",
    "X_te_po = poly.transform(X_te)\n",
    "X_te_po_sc = scaler_po.transform(X_te_po)\n",
    "\n",
    "alphas = np.geomspace(1e-3,1e3,1000)\n",
    "\n",
    "kf = KFold(n_splits=5, shuffle=True, random_state=1980)\n",
    "\n",
    "lasCV = LassoCV(alphas=alphas, cv=kf)\n",
    "ridCV = RidgeCV(alphas=alphas, cv=kf)\n",
    "elaCV = ElasticNetCV(alphas=alphas, l1_ratio=0.5, cv=kf)\n",
    "\n",
    "estimators = [lasCV, ridCV, elaCV]\n",
    "\n",
    "R2 = list()\n",
    "RMSE = list()\n",
    "\n",
    "for estimator in estimators:\n",
    "    estimator.fit(X_tr_po_sc, y_tr)\n",
    "    y_te_pr = estimator.predict(X_te_po_sc)\n",
    "    y_te_pr_true = inv_boxcox(y_te_pr, lmbda) \n",
    "    \n",
    "    r2 = r2_score(y_true=y_te_true , y_pred=y_te_pr_true)\n",
    "    rmse = mean_squared_error(y_true=y_te_true, y_pred=y_te_pr_true, squared=False)\n",
    "    \n",
    "    R2.append(r2), RMSE.append(rmse)\n",
    "    \n",
    "pd.DataFrame({'R2 score': R2, 'RMSE': RMSE}, index=['Ridge', 'Lasso', 'Elastic Net'] )"
   ]
  },
  {
   "cell_type": "markdown",
   "id": "ca67ef3c",
   "metadata": {},
   "source": [
    "It would be interesting to compare the coefficients obtained by different methods. In the figure below, you can see the obtained coefficients by the applied methods:"
   ]
  },
  {
   "cell_type": "code",
   "execution_count": 45,
   "id": "87acf099",
   "metadata": {},
   "outputs": [
    {
     "data": {
      "text/plain": [
       "Text(0, 0.5, 'Value')"
      ]
     },
     "execution_count": 45,
     "metadata": {},
     "output_type": "execute_result"
    },
    {
     "data": {
      "image/png": "[encoded data removed]",
      "text/plain": [
       "<Figure size 1080x720 with 1 Axes>"
      ]
     },
     "metadata": {},
     "output_type": "display_data"
    }
   ],
   "source": [
    "colors = sns.color_palette()\n",
    "\n",
    "fig = plt.figure(figsize=(15,10))\n",
    "plt.plot(ridCV.coef_, color=colors[0], marker='o', label='ridge rep.')\n",
    "plt.plot(lasCV.coef_, color=colors[1], marker='^', label='lasso rep.')\n",
    "plt.plot(elaCV.coef_, color=colors[2], marker='+', label='elastic net rep.')\n",
    "plt.legend()\n",
    "plt.title('The coefficients obtained by Ridge, Lasso, and Elastic Net methods')\n",
    "plt.xlabel('Feature')\n",
    "plt.ylabel('Value')"
   ]
  },
  {
   "cell_type": "markdown",
   "id": "14ffbc64",
   "metadata": {},
   "source": [
    "## Linear Regression: Different Scalers <a class=\"anchor\" id=\"3-6-bullet\"></a>\n",
    "\n",
    "In this section, we consider evaluating the impact of the scalers on the ultimate results. Using cross_val_predict, we choose the best scaler between MAxAbsScaler(), MinMAxScaler(), and StandardScaler() resulting in the best R2 score for the models obtained by Lasso. "
   ]
  },
  {
   "cell_type": "code",
   "execution_count": 46,
   "id": "d5b8d3b2",
   "metadata": {},
   "outputs": [
    {
     "name": "stdout",
     "output_type": "stream",
     "text": [
      "The best scaler: \n",
      "         alpha          Scaler  R2 score\n",
      "126  0.112332  MinMaxScaler()  0.754776\n"
     ]
    }
   ],
   "source": [
    "scaler_list = [MaxAbsScaler(), MinMaxScaler(), StandardScaler()]\n",
    "alphas = np.geomspace(1e-2,1e2, 100)\n",
    "\n",
    "poly = PolynomialFeatures(degree=2)\n",
    "kf = KFold(n_splits=5, shuffle=True, random_state=1979)\n",
    "\n",
    "scores = list()\n",
    "alpha_val = list()\n",
    "scaler_val = list()\n",
    "for sca in scaler_list:\n",
    "    for alpha in alphas:\n",
    "        las = Lasso(alpha=alpha)\n",
    "\n",
    "        estimator = Pipeline([('Polynomial_features', poly), ('scaler', sca), ('lasso_reg', las)])\n",
    "        scaler_val.append(sca)\n",
    "        predictions = cross_val_predict(estimator, X, y, cv=kf)\n",
    "        scores.append(r2_score(y_true=y, y_pred=predictions))\n",
    "        alpha_val.append(alpha)\n",
    "              \n",
    "RES = pd.DataFrame({'alpha':alpha_val, 'Scaler':scaler_val, 'R2 score':scores})\n",
    "\n",
    "print('The best scaler: \\n', RES[ RES['R2 score']== RES['R2 score'].max()] )\n"
   ]
  },
  {
   "cell_type": "markdown",
   "id": "983fe438",
   "metadata": {},
   "source": [
    "The best scaler is MinMaxScaler() when Lasso is used to obtain a linear model. "
   ]
  },
  {
   "cell_type": "markdown",
   "id": "7d9d293e",
   "metadata": {},
   "source": [
    "## Linear Rgression: Hyperparameter Tuning <a class=\"anchor\" id=\"3-7-bullet\"></a>"
   ]
  },
  {
   "cell_type": "markdown",
   "id": "e1348fe8",
   "metadata": {},
   "source": [
    "In this section, we tackle the hyperparameter tuning problem. In what follows, using Pipeline and GridSearchCV, we consider the problem of choosing the best values for parameter alpha and the degree of the polynomial features to obtain the best possible linear model. "
   ]
  },
  {
   "cell_type": "code",
   "execution_count": 47,
   "id": "f0178fe1",
   "metadata": {},
   "outputs": [],
   "source": [
    "kf = KFold(n_splits=5, shuffle=True, random_state=1979)\n",
    "\n",
    "poly = PolynomialFeatures()\n",
    "sca = StandardScaler()\n",
    "las = Ridge()\n",
    "\n",
    "alphas= np.geomspace(1e-2, 1e2, num=100)\n",
    "\n",
    "estimator = Pipeline([('Polynomial_features', poly),\n",
    "                      ('Scaler', sca),\n",
    "                      ('Regression', las)])\n",
    "\n",
    "params = {'Polynomial_features__degree': [1, 2, 3],\n",
    "          'Regression__alpha': alphas }\n",
    "\n",
    "grid = GridSearchCV(estimator, params, cv=kf)"
   ]
  },
  {
   "cell_type": "code",
   "execution_count": 48,
   "id": "1c11d679",
   "metadata": {},
   "outputs": [
    {
     "data": {
      "text/plain": [
       "GridSearchCV(cv=KFold(n_splits=5, random_state=1979, shuffle=True),\n",
       "             estimator=Pipeline(steps=[('Polynomial_features',\n",
       "                                        PolynomialFeatures()),\n",
       "                                       ('Scaler', StandardScaler()),\n",
       "                                       ('Regression', Ridge())]),\n",
       "             param_grid={'Polynomial_features__degree': [1, 2, 3],\n",
       "                         'Regression__alpha': array([1.00000000e-02, 1.09749877e-02, 1.20450354e-02, 1.32194115e-02,\n",
       "       1.45082878e-02, 1.5922827...\n",
       "       1.17681195e+01, 1.29154967e+01, 1.41747416e+01, 1.55567614e+01,\n",
       "       1.70735265e+01, 1.87381742e+01, 2.05651231e+01, 2.25701972e+01,\n",
       "       2.47707636e+01, 2.71858824e+01, 2.98364724e+01, 3.27454916e+01,\n",
       "       3.59381366e+01, 3.94420606e+01, 4.32876128e+01, 4.75081016e+01,\n",
       "       5.21400829e+01, 5.72236766e+01, 6.28029144e+01, 6.89261210e+01,\n",
       "       7.56463328e+01, 8.30217568e+01, 9.11162756e+01, 1.00000000e+02])})"
      ]
     },
     "execution_count": 48,
     "metadata": {},
     "output_type": "execute_result"
    }
   ],
   "source": [
    "X_tr, X_te, y_tr, y_te = train_test_split(X, y, test_size=0.25, \n",
    "                                    random_state=1979, shuffle=True)\n",
    "\n",
    "grid.fit(X_tr, y_tr)"
   ]
  },
  {
   "cell_type": "markdown",
   "id": "db34f5fe",
   "metadata": {},
   "source": [
    "In the aforementioned design, we confined ourselves to use SatndardScaler() and Ridge() to design the model. In the scenario, the best obtained values for the polynomial degree and alpha are as follows: "
   ]
  },
  {
   "cell_type": "code",
   "execution_count": 49,
   "id": "17ae7b7c",
   "metadata": {
    "scrolled": true
   },
   "outputs": [
    {
     "data": {
      "text/plain": [
       "(0.7358033679193989,\n",
       " {'Polynomial_features__degree': 2, 'Regression__alpha': 1.6681005372000592})"
      ]
     },
     "execution_count": 49,
     "metadata": {},
     "output_type": "execute_result"
    }
   ],
   "source": [
    "grid.best_score_, grid.best_params_"
   ]
  },
  {
   "cell_type": "markdown",
   "id": "1534f5a8",
   "metadata": {},
   "source": [
    "Now, lets have a look at the obtained value for the R2 score:"
   ]
  },
  {
   "cell_type": "code",
   "execution_count": 50,
   "id": "ad22fb62",
   "metadata": {},
   "outputs": [
    {
     "data": {
      "text/plain": [
       "0.7546404201933999"
      ]
     },
     "execution_count": 50,
     "metadata": {},
     "output_type": "execute_result"
    }
   ],
   "source": [
    "y_te_pre = grid.predict(X_te)\n",
    "\n",
    "y_te_true = inv_boxcox(y_te, lmbda)\n",
    "y_te_pre_true = inv_boxcox(y_te_pre, lmbda)\n",
    "r2_score(y_true=y_te_true , y_pred=y_te_pre_true)"
   ]
  },
  {
   "cell_type": "markdown",
   "id": "5f5ee6f3",
   "metadata": {},
   "source": [
    "Now, we are at the point that to consider a more general hyperparameter tuning problem in which the method, scaler, polynomial degree, alpha (and l1_ratio) to be considered in the tuning problem. In what follows, we choose the best possible linear model for our dataset by tuning all the hyperparameters systematically. "
   ]
  },
  {
   "cell_type": "code",
   "execution_count": 51,
   "id": "1ca42278",
   "metadata": {},
   "outputs": [
    {
     "data": {
      "text/html": [
       "<div>\n",
       "<style scoped>\n",
       "    .dataframe tbody tr th:only-of-type {\n",
       "        vertical-align: middle;\n",
       "    }\n",
       "\n",
       "    .dataframe tbody tr th {\n",
       "        vertical-align: top;\n",
       "    }\n",
       "\n",
       "    .dataframe thead th {\n",
       "        text-align: right;\n",
       "    }\n",
       "</style>\n",
       "<table border=\"1\" class=\"dataframe\">\n",
       "  <thead>\n",
       "    <tr style=\"text-align: right;\">\n",
       "      <th></th>\n",
       "      <th>R2 Score</th>\n",
       "      <th>Alpha</th>\n",
       "      <th>L1_ratio</th>\n",
       "      <th>Polynomial Degree</th>\n",
       "      <th>Scaler</th>\n",
       "      <th>Methods</th>\n",
       "      <th>R2 Score:Test Set</th>\n",
       "    </tr>\n",
       "  </thead>\n",
       "  <tbody>\n",
       "    <tr>\n",
       "      <th>0</th>\n",
       "      <td>0.767626</td>\n",
       "      <td>0.599484</td>\n",
       "      <td>NaN</td>\n",
       "      <td>2</td>\n",
       "      <td>StandardScaler()</td>\n",
       "      <td>Ridge()</td>\n",
       "      <td>0.740633</td>\n",
       "    </tr>\n",
       "    <tr>\n",
       "      <th>1</th>\n",
       "      <td>0.766831</td>\n",
       "      <td>0.599484</td>\n",
       "      <td>NaN</td>\n",
       "      <td>2</td>\n",
       "      <td>StandardScaler()</td>\n",
       "      <td>Lasso()</td>\n",
       "      <td>0.739757</td>\n",
       "    </tr>\n",
       "    <tr>\n",
       "      <th>2</th>\n",
       "      <td>0.766831</td>\n",
       "      <td>0.599484</td>\n",
       "      <td>1.0</td>\n",
       "      <td>2</td>\n",
       "      <td>StandardScaler()</td>\n",
       "      <td>ElasticNet()</td>\n",
       "      <td>0.739757</td>\n",
       "    </tr>\n",
       "    <tr>\n",
       "      <th>3</th>\n",
       "      <td>0.767205</td>\n",
       "      <td>0.010000</td>\n",
       "      <td>NaN</td>\n",
       "      <td>2</td>\n",
       "      <td>MinMaxScaler()</td>\n",
       "      <td>Ridge()</td>\n",
       "      <td>0.740074</td>\n",
       "    </tr>\n",
       "    <tr>\n",
       "      <th>4</th>\n",
       "      <td>0.767100</td>\n",
       "      <td>0.077426</td>\n",
       "      <td>NaN</td>\n",
       "      <td>2</td>\n",
       "      <td>MinMaxScaler()</td>\n",
       "      <td>Lasso()</td>\n",
       "      <td>0.738691</td>\n",
       "    </tr>\n",
       "    <tr>\n",
       "      <th>5</th>\n",
       "      <td>0.767100</td>\n",
       "      <td>0.077426</td>\n",
       "      <td>1.0</td>\n",
       "      <td>2</td>\n",
       "      <td>MinMaxScaler()</td>\n",
       "      <td>ElasticNet()</td>\n",
       "      <td>0.738691</td>\n",
       "    </tr>\n",
       "    <tr>\n",
       "      <th>6</th>\n",
       "      <td>0.767163</td>\n",
       "      <td>0.010000</td>\n",
       "      <td>NaN</td>\n",
       "      <td>2</td>\n",
       "      <td>MaxAbsScaler()</td>\n",
       "      <td>Ridge()</td>\n",
       "      <td>0.739869</td>\n",
       "    </tr>\n",
       "    <tr>\n",
       "      <th>7</th>\n",
       "      <td>0.767203</td>\n",
       "      <td>0.077426</td>\n",
       "      <td>NaN</td>\n",
       "      <td>2</td>\n",
       "      <td>MaxAbsScaler()</td>\n",
       "      <td>Lasso()</td>\n",
       "      <td>0.738746</td>\n",
       "    </tr>\n",
       "    <tr>\n",
       "      <th>8</th>\n",
       "      <td>0.767203</td>\n",
       "      <td>0.077426</td>\n",
       "      <td>1.0</td>\n",
       "      <td>2</td>\n",
       "      <td>MaxAbsScaler()</td>\n",
       "      <td>ElasticNet()</td>\n",
       "      <td>0.738746</td>\n",
       "    </tr>\n",
       "  </tbody>\n",
       "</table>\n",
       "</div>"
      ],
      "text/plain": [
       "   R2 Score     Alpha  L1_ratio  Polynomial Degree            Scaler  \\\n",
       "0  0.767626  0.599484       NaN                  2  StandardScaler()   \n",
       "1  0.766831  0.599484       NaN                  2  StandardScaler()   \n",
       "2  0.766831  0.599484       1.0                  2  StandardScaler()   \n",
       "3  0.767205  0.010000       NaN                  2    MinMaxScaler()   \n",
       "4  0.767100  0.077426       NaN                  2    MinMaxScaler()   \n",
       "5  0.767100  0.077426       1.0                  2    MinMaxScaler()   \n",
       "6  0.767163  0.010000       NaN                  2    MaxAbsScaler()   \n",
       "7  0.767203  0.077426       NaN                  2    MaxAbsScaler()   \n",
       "8  0.767203  0.077426       1.0                  2    MaxAbsScaler()   \n",
       "\n",
       "        Methods  R2 Score:Test Set  \n",
       "0       Ridge()           0.740633  \n",
       "1       Lasso()           0.739757  \n",
       "2  ElasticNet()           0.739757  \n",
       "3       Ridge()           0.740074  \n",
       "4       Lasso()           0.738691  \n",
       "5  ElasticNet()           0.738691  \n",
       "6       Ridge()           0.739869  \n",
       "7       Lasso()           0.738746  \n",
       "8  ElasticNet()           0.738746  "
      ]
     },
     "execution_count": 51,
     "metadata": {},
     "output_type": "execute_result"
    }
   ],
   "source": [
    "X_tr, X_te, y_tr, y_te = train_test_split(X, y, test_size=0.2, \n",
    "                                    random_state=1979, shuffle=True)\n",
    "\n",
    "kf = KFold(n_splits=5, shuffle=True, random_state=1979)\n",
    "\n",
    "BEST_SCORES = list()\n",
    "BEST_DEGREE = list()\n",
    "BEST_ALPHA = list()\n",
    "SCALER = list()\n",
    "METHODS = list()\n",
    "R2_TEST = list()\n",
    "L1_RATIO = list()\n",
    "\n",
    "poly = PolynomialFeatures()\n",
    "scalers = [StandardScaler(), MinMaxScaler(), MaxAbsScaler()]\n",
    "methods = [Ridge(), Lasso(), ElasticNet()]\n",
    "\n",
    "alphas= np.geomspace(1e-2, 1e2, num=10)\n",
    "l1_ratios = np.linspace(0,1,num=10)\n",
    "\n",
    "for scaler in scalers:\n",
    "    for method in methods:\n",
    "\n",
    "        estimator = Pipeline([('Polynomial_features', poly),\n",
    "                              ('Scaler', scaler),\n",
    "                              ('Regression', method)])\n",
    "        \n",
    "        if str(method)=='ElasticNet()':\n",
    "            params = {'Polynomial_features__degree': [1, 2, 3],\n",
    "                      'Regression__alpha': alphas,\n",
    "                      'Regression__l1_ratio': l1_ratios\n",
    "                      }\n",
    "        else:\n",
    "            params = {'Polynomial_features__degree': [1, 2, 3],\n",
    "                      'Regression__alpha': alphas\n",
    "                      }\n",
    "        \n",
    "\n",
    "        grid = GridSearchCV(estimator, params, cv=kf)\n",
    "        grid.fit(X_tr, y_tr)\n",
    "        y_te_pre = grid.predict(X_te)\n",
    "        y_te_true = inv_boxcox(y_te, lmbda)\n",
    "        y_te_pre_true = inv_boxcox(y_te_pre, lmbda)\n",
    "        r2_te = r2_score(y_true=y_te_true , y_pred=y_te_pre_true)\n",
    "        \n",
    "        BEST_SCORES.append(grid.best_score_)\n",
    "        BEST_DEGREE.append(grid.best_params_['Polynomial_features__degree'])\n",
    "        BEST_ALPHA.append(grid.best_params_['Regression__alpha'])\n",
    "        SCALER.append(scaler)\n",
    "        METHODS.append(method)\n",
    "        R2_TEST.append(r2_te)\n",
    "        \n",
    "        if str(method)=='ElasticNet()':\n",
    "            L1_RATIO.append(grid.best_params_['Regression__l1_ratio'])\n",
    "        else:\n",
    "            L1_RATIO.append(np.nan)\n",
    "        \n",
    "        \n",
    "RES = pd.DataFrame({'R2 Score':BEST_SCORES, 'Alpha': BEST_ALPHA, 'L1_ratio':L1_RATIO,\n",
    "                    'Polynomial Degree':BEST_DEGREE,\n",
    "                     'Scaler':SCALER, 'Methods': METHODS , 'R2 Score:Test Set':R2_TEST} )\n",
    "RES"
   ]
  },
  {
   "cell_type": "markdown",
   "id": "162133f7",
   "metadata": {},
   "source": [
    "# Final Model <a class=\"anchor\" id=\"fourth-bullet\"></a>\n",
    "\n",
    "As one can see in the previous cell, the best model can be chosen based on the R2 score computed for the test set. This would be the best model that we could use to obtain a linear model for our dataset. "
   ]
  },
  {
   "cell_type": "code",
   "execution_count": 52,
   "id": "3167fdc6",
   "metadata": {},
   "outputs": [
    {
     "name": "stdout",
     "output_type": "stream",
     "text": [
      "The obtained value for alpha for the train set:  0.8241369242509781\n"
     ]
    }
   ],
   "source": [
    "opt_degree = RES[RES['R2 Score:Test Set']==RES['R2 Score:Test Set'].max()]['Polynomial Degree'].values[0]\n",
    "opt_scaler = RES[RES['R2 Score:Test Set']==RES['R2 Score:Test Set'].max()]['Scaler'].values[0]\n",
    "opt_alpha = RES[RES['R2 Score:Test Set']==RES['R2 Score:Test Set'].max()]['Alpha'].values[0]\n",
    "opt_method = RES[RES['R2 Score:Test Set']==RES['R2 Score:Test Set'].max()]['Methods'].values[0]\n",
    "opt_L1_ratio = RES[RES['R2 Score:Test Set']==RES['R2 Score:Test Set'].max()]['L1_ratio'].values[0]\n",
    "\n",
    "poly = PolynomialFeatures()\n",
    "\n",
    "pipe = Pipeline([('Polynomial_features', poly), ('scaler', opt_scaler), ('Regression', opt_method)])\n",
    "\n",
    "if str(opt_method)=='ElasticNet':\n",
    "    pipe.set_params(Polynomial_features__degree=opt_degree, Regression__alpha=opt_alpha,\n",
    "                   Regression__l1_ratio=opt_L1_ratio)\n",
    "else:\n",
    "    pipe.set_params(Polynomial_features__degree=opt_degree, Regression__alpha=opt_alpha)\n",
    "\n",
    "pipe.fit(X_tr,y_tr)\n",
    "print('The obtained value for alpha for the train set: ', pipe.score(X_tr,y_tr))"
   ]
  },
  {
   "cell_type": "code",
   "execution_count": 53,
   "id": "6821ca38",
   "metadata": {},
   "outputs": [
    {
     "name": "stdout",
     "output_type": "stream",
     "text": [
      "The alpha value for the test set:  0.7406332390452082\n",
      "The rmse value for the test set:  3113.5710135314102\n"
     ]
    }
   ],
   "source": [
    "y_te_pre = pipe.predict(X_te)\n",
    "y_te_true = inv_boxcox(y_te, lmbda)\n",
    "y_te_pre_true = inv_boxcox(y_te_pre, lmbda)\n",
    "\n",
    "r2_te = r2_score(y_true=y_te_true , y_pred=y_te_pre_true)\n",
    "print('The alpha value for the test set: ', r2_te)\n",
    "\n",
    "rmse = mean_squared_error(y_true=y_te_true, y_pred=y_te_pre_true, squared=False)\n",
    "print('The rmse value for the test set: ', rmse)"
   ]
  },
  {
   "cell_type": "markdown",
   "id": "42062549",
   "metadata": {},
   "source": [
    "Finally, you can see the predicted values for the considered test set as follows:"
   ]
  },
  {
   "cell_type": "code",
   "execution_count": 54,
   "id": "684ab2db",
   "metadata": {
    "scrolled": true
   },
   "outputs": [
    {
     "data": {
      "text/plain": [
       "[Text(0.5, 0, 'Ground Truth'),\n",
       " Text(0, 0.5, 'Prediction'),\n",
       " Text(0.5, 1.0, 'Prection versus true values for premium price')]"
      ]
     },
     "execution_count": 54,
     "metadata": {},
     "output_type": "execute_result"
    },
    {
     "data": {
      "image/png": "[encoded data removed]",
      "text/plain": [
       "<Figure size 720x720 with 1 Axes>"
      ]
     },
     "metadata": {},
     "output_type": "display_data"
    }
   ],
   "source": [
    "fig, ax = plt.subplots(figsize=(10,10))\n",
    "ax.scatter(x=y_te_true, y=y_te_pre_true)\n",
    "ax.set(xlabel='Ground Truth', ylabel='Prediction', title='Prection versus true values for premium price')"
   ]
  },
  {
   "cell_type": "markdown",
   "id": "0fc2794d",
   "metadata": {},
   "source": [
    "To recapitulate, for the considered dataset, we added to new features, and exploiting a systematically hyperparameter tuning a linear model is obtained. We explored different available methods in scikit-learn to design our linear regression model. "
   ]
  },
  {
   "cell_type": "code",
   "execution_count": null,
   "id": "4cb140ba",
   "metadata": {},
   "outputs": [],
   "source": []
  }
 ],
 "metadata": {
  "kernelspec": {
   "display_name": "Python 3 (ipykernel)",
   "language": "python",
   "name": "python3"
  },
  "language_info": {
   "codemirror_mode": {
    "name": "ipython",
    "version": 3
   },
   "file_extension": ".py",
   "mimetype": "text/x-python",
   "name": "python",
   "nbconvert_exporter": "python",
   "pygments_lexer": "ipython3",
   "version": "3.9.12"
  }
 },
 "nbformat": 4,
 "nbformat_minor": 5
}
